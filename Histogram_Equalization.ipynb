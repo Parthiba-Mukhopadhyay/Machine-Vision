{
  "nbformat": 4,
  "nbformat_minor": 0,
  "metadata": {
    "colab": {
      "provenance": []
    },
    "kernelspec": {
      "name": "python3",
      "display_name": "Python 3"
    },
    "language_info": {
      "name": "python"
    }
  },
  "cells": [
    {
      "cell_type": "code",
      "execution_count": 1,
      "metadata": {
        "id": "eDMt0_eX3VCe"
      },
      "outputs": [],
      "source": [
        "# Importing Library\n",
        "import numpy as np\n",
        "import cv2\n",
        "from matplotlib import pyplot as plt\n",
        "from PIL import Image"
      ]
    },
    {
      "cell_type": "code",
      "source": [
        "# taking matrix input\n",
        "matrix=[]\n",
        "for i in range(4):\n",
        "  a=[]\n",
        "  for j in range(4):\n",
        "    a.append(int(input()))\n",
        "  matrix.append(a)\n",
        "print(matrix)\n"
      ],
      "metadata": {
        "colab": {
          "base_uri": "https://localhost:8080/"
        },
        "id": "6cB0EzG29KFc",
        "outputId": "21a792ab-bdee-4b29-e1d7-684f6e8db451"
      },
      "execution_count": 2,
      "outputs": [
        {
          "output_type": "stream",
          "name": "stdout",
          "text": [
            "2\n",
            "4\n",
            "6\n",
            "7\n",
            "9\n",
            "5\n",
            "2\n",
            "5\n",
            "6\n",
            "1\n",
            "2\n",
            "8\n",
            "4\n",
            "3\n",
            "4\n",
            "2\n",
            "[[2, 4, 6, 7], [9, 5, 2, 5], [6, 1, 2, 8], [4, 3, 4, 2]]\n"
          ]
        }
      ]
    },
    {
      "cell_type": "code",
      "source": [
        "# converting to numpy array\n",
        "matrix=np.array(matrix)"
      ],
      "metadata": {
        "id": "O3xCyd9P8FqV"
      },
      "execution_count": 3,
      "outputs": []
    },
    {
      "cell_type": "code",
      "source": [
        "print(matrix)"
      ],
      "metadata": {
        "colab": {
          "base_uri": "https://localhost:8080/"
        },
        "id": "IeTLU1Vu_7wh",
        "outputId": "26bb1ff8-8483-42b1-9ade-d782c645140c"
      },
      "execution_count": 4,
      "outputs": [
        {
          "output_type": "stream",
          "name": "stdout",
          "text": [
            "[[2 4 6 7]\n",
            " [9 5 2 5]\n",
            " [6 1 2 8]\n",
            " [4 3 4 2]]\n"
          ]
        }
      ]
    },
    {
      "cell_type": "code",
      "source": [
        "plt.imshow(matrix, cmap='gray', vmin=0, vmax=15)\n",
        "plt.title('Input Image - Before Histogram Equalization')\n",
        "plt.colorbar()\n",
        "plt.show()"
      ],
      "metadata": {
        "colab": {
          "base_uri": "https://localhost:8080/",
          "height": 452
        },
        "id": "6bBGI4CS_-0q",
        "outputId": "ea50625a-46fe-40ab-fe12-5fde1770a0c0"
      },
      "execution_count": 5,
      "outputs": [
        {
          "output_type": "display_data",
          "data": {
            "text/plain": [
              "<Figure size 640x480 with 2 Axes>"
            ],
            "image/png": "[encoded data removed]"
          },
          "metadata": {}
        }
      ]
    },
    {
      "cell_type": "code",
      "source": [
        "matrix_new=matrix.flatten()"
      ],
      "metadata": {
        "id": "lzy0jTtTFM0r"
      },
      "execution_count": 6,
      "outputs": []
    },
    {
      "cell_type": "code",
      "source": [
        "# Histogram Equalization\n",
        "unique,frequency = np.unique(matrix_new,return_counts=True)\n",
        "print (unique)\n",
        "print(frequency)\n",
        "sum_f=sum(frequency)\n",
        "print(sum_f)\n",
        "pdf=frequency/16\n",
        "print(pdf)\n",
        "cdf=np.cumsum(pdf)\n",
        "print(cdf)\n",
        "print (cdf * 15 )\n",
        "rounded =np.round(cdf * 15)\n",
        "print(rounded)"
      ],
      "metadata": {
        "colab": {
          "base_uri": "https://localhost:8080/"
        },
        "id": "arPn8sJHExps",
        "outputId": "c6e58792-884b-4149-d51e-a869d5a22c42"
      },
      "execution_count": 7,
      "outputs": [
        {
          "output_type": "stream",
          "name": "stdout",
          "text": [
            "[1 2 3 4 5 6 7 8 9]\n",
            "[1 4 1 3 2 2 1 1 1]\n",
            "16\n",
            "[0.0625 0.25   0.0625 0.1875 0.125  0.125  0.0625 0.0625 0.0625]\n",
            "[0.0625 0.3125 0.375  0.5625 0.6875 0.8125 0.875  0.9375 1.    ]\n",
            "[ 0.9375  4.6875  5.625   8.4375 10.3125 12.1875 13.125  14.0625 15.    ]\n",
            "[ 1.  5.  6.  8. 10. 12. 13. 14. 15.]\n"
          ]
        }
      ]
    },
    {
      "cell_type": "code",
      "source": [
        "mapping = dict(zip(unique, rounded))"
      ],
      "metadata": {
        "id": "88EvIK1OTI3m"
      },
      "execution_count": 8,
      "outputs": []
    },
    {
      "cell_type": "code",
      "source": [
        "for i in range(matrix.shape[0]):\n",
        "    for j in range(matrix.shape[1]):\n",
        "        matrix[i, j] = mapping.get(matrix[i, j], matrix[i, j])"
      ],
      "metadata": {
        "id": "kJky3MKCUiS8"
      },
      "execution_count": 9,
      "outputs": []
    },
    {
      "cell_type": "code",
      "source": [
        "print(matrix)"
      ],
      "metadata": {
        "colab": {
          "base_uri": "https://localhost:8080/"
        },
        "id": "XtNj6cCIUjtj",
        "outputId": "dbe9c716-bc5c-4db6-cb7d-799eed744d49"
      },
      "execution_count": 10,
      "outputs": [
        {
          "output_type": "stream",
          "name": "stdout",
          "text": [
            "[[ 5  8 12 13]\n",
            " [15 10  5 10]\n",
            " [12  1  5 14]\n",
            " [ 8  6  8  5]]\n"
          ]
        }
      ]
    },
    {
      "cell_type": "code",
      "source": [
        "plt.imshow(matrix, cmap='gray', vmin=0, vmax=15)\n",
        "plt.title('Output Image - After Histogram Equalization ')\n",
        "plt.colorbar()\n",
        "plt.show()"
      ],
      "metadata": {
        "colab": {
          "base_uri": "https://localhost:8080/",
          "height": 452
        },
        "id": "XAUBkorAUpjc",
        "outputId": "feeaad8e-08bf-4421-c653-ea72ae95ead0"
      },
      "execution_count": 11,
      "outputs": [
        {
          "output_type": "display_data",
          "data": {
            "text/plain": [
              "<Figure size 640x480 with 2 Axes>"
            ],
            "image/png": "[encoded data removed]"
          },
          "metadata": {}
        }
      ]
    }
  ]
}